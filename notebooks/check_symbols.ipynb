{
 "cells": [
  {
   "cell_type": "markdown",
   "metadata": {},
   "source": [
    "# Check for new symbols or if changed to inactive\n",
    "This notebook will check for new or inactive symbols"
   ]
  },
  {
   "cell_type": "code",
   "execution_count": 2,
   "metadata": {},
   "outputs": [],
   "source": [
    "# Import libraries\n",
    "import binance\n",
    "import pandas as pd\n",
    "import ccxt\n",
    "import logging\n",
    "import datetime\n",
    "import tqdm\n",
    "import time\n",
    "import os\n",
    "import traceback\n",
    "import sqlite3\n",
    "import pdcast as pdc\n",
    "from dotenv import load_dotenv\n"
   ]
  },
  {
   "cell_type": "code",
   "execution_count": 3,
   "metadata": {},
   "outputs": [],
   "source": [
    "# Load environment variables\n",
    "_ = load_dotenv()\n",
    "working_dir = os.getenv(\"WORKING_DIR\")\n",
    "\n",
    "# Change to working dir\n",
    "os.chdir(working_dir)"
   ]
  },
  {
   "cell_type": "code",
   "execution_count": 4,
   "metadata": {},
   "outputs": [],
   "source": [
    "def extract_symbols():\n",
    "    exchange = ccxt.binance(\n",
    "        {\n",
    "            \"rateLimit\": 2000,\n",
    "            \"enableRateLimit\": True,\n",
    "            \"verbose\": False,\n",
    "        }\n",
    "    )\n",
    "    data = exchange.load_markets()\n",
    "    df = pd.DataFrame(data).T.reset_index()\n",
    "    df = df.drop(columns=['precision','limits','info'])\n",
    "    return df"
   ]
  },
  {
   "cell_type": "code",
   "execution_count": 38,
   "metadata": {},
   "outputs": [],
   "source": [
    "df_exchange = extract_symbols()"
   ]
  },
  {
   "cell_type": "code",
   "execution_count": 48,
   "metadata": {},
   "outputs": [],
   "source": [
    "df_exchange.active = df_exchange.active.astype(int)"
   ]
  },
  {
   "cell_type": "code",
   "execution_count": 46,
   "metadata": {},
   "outputs": [],
   "source": [
    "# Write data to database\n",
    "with sqlite3.connect(database=\"./data/database.db\") as conn:\n",
    "    df_database = pd.read_sql(\"SELECT pk_symbols, id, baseId, quoteId, type, active as last_status FROM DimSymbols\", conn)\n",
    "    \n",
    "df_database.last_status = df_database.last_status.astype(int)\n",
    "    "
   ]
  },
  {
   "cell_type": "code",
   "execution_count": 49,
   "metadata": {},
   "outputs": [],
   "source": [
    "df_new = df_exchange.merge(df_database, on=['id','baseId','quoteId', \"type\"], how='outer')\n"
   ]
  },
  {
   "cell_type": "code",
   "execution_count": 56,
   "metadata": {},
   "outputs": [],
   "source": [
    "df_insert = df_new[df_new.pk_symbols.isna()]\n",
    "if not df_insert.empty:\n",
    "    with sqlite3.connect(database=\"./data/database.db\") as conn:\n",
    "        df_insert.to_sql(\"DimSymbols\", conn, if_exists='append', index=False)\n",
    "    "
   ]
  },
  {
   "cell_type": "code",
   "execution_count": 63,
   "metadata": {},
   "outputs": [],
   "source": [
    "df_update = df_new[(df_new.active != df_new.last_status)]\n",
    "\n",
    "if not df_update.empty:\n",
    "    symbols2update = df_update.pk_symbols.to_list()\n",
    "    with sqlite3.connect(database=\"./data/database.db\") as conn:\n",
    "        query = f\"\"\"\n",
    "        update DimSymbols\n",
    "        set active = 0\n",
    "        where pk_symbols in ({symbols2update})\n",
    "        \"\"\"\n",
    "        df_update.pk_symbols.to_list()"
   ]
  }
 ],
 "metadata": {
  "kernelspec": {
   "display_name": "crypto",
   "language": "python",
   "name": "python3"
  },
  "language_info": {
   "codemirror_mode": {
    "name": "ipython",
    "version": 3
   },
   "file_extension": ".py",
   "mimetype": "text/x-python",
   "name": "python",
   "nbconvert_exporter": "python",
   "pygments_lexer": "ipython3",
   "version": "3.11.4"
  },
  "orig_nbformat": 4
 },
 "nbformat": 4,
 "nbformat_minor": 2
}
