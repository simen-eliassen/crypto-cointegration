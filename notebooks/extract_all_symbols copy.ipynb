{
 "cells": [
  {
   "cell_type": "markdown",
   "metadata": {},
   "source": [
    "# Extract symbols\n",
    "This notebook will extarct all symbols and write it to the database"
   ]
  },
  {
   "cell_type": "code",
   "execution_count": 23,
   "metadata": {},
   "outputs": [],
   "source": [
    "# Import libraries\n",
    "import binance\n",
    "import pandas as pd\n",
    "import ccxt\n",
    "import logging\n",
    "import datetime\n",
    "import tqdm\n",
    "import time\n",
    "import os\n",
    "import traceback\n",
    "import sqlite3\n",
    "import pdcast as pdc\n",
    "from dotenv import load_dotenv\n"
   ]
  },
  {
   "cell_type": "code",
   "execution_count": 3,
   "metadata": {},
   "outputs": [],
   "source": [
    "# Load environment variables\n",
    "_ = load_dotenv()\n",
    "working_dir = os.getenv(\"WORKING_DIR\")\n",
    "\n",
    "# Change to working dir\n",
    "os.chdir(working_dir)"
   ]
  },
  {
   "cell_type": "code",
   "execution_count": 4,
   "metadata": {},
   "outputs": [],
   "source": [
    "def extract_symbols():\n",
    "    exchange = ccxt.binance(\n",
    "        {\n",
    "            \"rateLimit\": 2000,\n",
    "            \"enableRateLimit\": True,\n",
    "            \"verbose\": False,\n",
    "        }\n",
    "    )\n",
    "    data = exchange.load_markets()\n",
    "    df = pd.DataFrame(data).T.reset_index()\n",
    "    df = df.drop(columns=['precision','limits','info'])\n",
    "    return df"
   ]
  },
  {
   "cell_type": "code",
   "execution_count": 27,
   "metadata": {},
   "outputs": [],
   "source": [
    "df = extract_symbols()"
   ]
  },
  {
   "cell_type": "code",
   "execution_count": 28,
   "metadata": {},
   "outputs": [],
   "source": [
    "df_downcast = pdc.downcast(df)"
   ]
  },
  {
   "cell_type": "code",
   "execution_count": 36,
   "metadata": {},
   "outputs": [],
   "source": [
    "sql_text = pd.io.sql.get_schema(df_downcast, \"DimSymbols\")"
   ]
  },
  {
   "cell_type": "code",
   "execution_count": 37,
   "metadata": {},
   "outputs": [
    {
     "name": "stdout",
     "output_type": "stream",
     "text": [
      "CREATE TABLE \"DimSymbols\" (\n",
      "\"index\" TEXT,\n",
      "  \"id\" TEXT,\n",
      "  \"symbol\" TEXT,\n",
      "  \"base\" TEXT,\n",
      "  \"quote\" TEXT,\n",
      "  \"baseId\" TEXT,\n",
      "  \"quoteId\" TEXT,\n",
      "  \"active\" TEXT,\n",
      "  \"type\" TEXT,\n",
      "  \"linear\" TEXT,\n",
      "  \"inverse\" TEXT,\n",
      "  \"spot\" TEXT,\n",
      "  \"swap\" TEXT,\n",
      "  \"future\" TEXT,\n",
      "  \"option\" TEXT,\n",
      "  \"margin\" TEXT,\n",
      "  \"contract\" TEXT,\n",
      "  \"contractSize\" TEXT,\n",
      "  \"expiry\" TEXT,\n",
      "  \"expiryDatetime\" TEXT,\n",
      "  \"optionType\" INTEGER,\n",
      "  \"strike\" INTEGER,\n",
      "  \"settle\" TEXT,\n",
      "  \"settleId\" TEXT,\n",
      "  \"percentage\" TEXT,\n",
      "  \"feeSide\" TEXT,\n",
      "  \"tierBased\" TEXT,\n",
      "  \"taker\" TEXT,\n",
      "  \"maker\" TEXT,\n",
      "  \"lowercaseId\" TEXT\n",
      ")\n"
     ]
    }
   ],
   "source": [
    "print(sql_text)"
   ]
  },
  {
   "cell_type": "code",
   "execution_count": 42,
   "metadata": {},
   "outputs": [],
   "source": [
    "sql = \"\"\"\n",
    "CREATE TABLE \"DimSymbols\" (\n",
    "\"pk_symbols\" INTEGER PRIMARY KEY,\n",
    "\"index\" TEXT,\n",
    "  \"id\" TEXT,\n",
    "  \"symbol\" TEXT,\n",
    "  \"base\" TEXT,\n",
    "  \"quote\" TEXT,\n",
    "  \"baseId\" TEXT,\n",
    "  \"quoteId\" TEXT,\n",
    "  \"active\" TEXT,\n",
    "  \"type\" TEXT,\n",
    "  \"linear\" TEXT,\n",
    "  \"inverse\" TEXT,\n",
    "  \"spot\" TEXT,\n",
    "  \"swap\" TEXT,\n",
    "  \"future\" TEXT,\n",
    "  \"option\" TEXT,\n",
    "  \"margin\" TEXT,\n",
    "  \"contract\" TEXT,\n",
    "  \"contractSize\" TEXT,\n",
    "  \"expiry\" TEXT,\n",
    "  \"expiryDatetime\" TEXT,\n",
    "  \"optionType\" INTEGER,\n",
    "  \"strike\" INTEGER,\n",
    "  \"settle\" TEXT,\n",
    "  \"settleId\" TEXT,\n",
    "  \"percentage\" TEXT,\n",
    "  \"feeSide\" TEXT,\n",
    "  \"tierBased\" TEXT,\n",
    "  \"taker\" TEXT,\n",
    "  \"maker\" TEXT,\n",
    "  \"lowercaseId\" TEXT\n",
    ")\n",
    "\"\"\"\n",
    "\n",
    "with sqlite3.connect(\"data/database.db\") as conn:\n",
    "    conn.execute(\"drop table if exists DimSymbols\")\n",
    "    conn.execute(sql)\n",
    "    conn.commit()\n"
   ]
  },
  {
   "cell_type": "code",
   "execution_count": 43,
   "metadata": {},
   "outputs": [],
   "source": [
    "# Write data to database\n",
    "with sqlite3.connect(database=\"./data/database.db\") as conn:\n",
    "    logging.info(\"Writing to database\")\n",
    "    df_downcast.to_sql(\"DimSymbols\", conn, if_exists=\"append\", index=False)"
   ]
  }
 ],
 "metadata": {
  "kernelspec": {
   "display_name": "crypto",
   "language": "python",
   "name": "python3"
  },
  "language_info": {
   "codemirror_mode": {
    "name": "ipython",
    "version": 3
   },
   "file_extension": ".py",
   "mimetype": "text/x-python",
   "name": "python",
   "nbconvert_exporter": "python",
   "pygments_lexer": "ipython3",
   "version": "3.11.4"
  },
  "orig_nbformat": 4
 },
 "nbformat": 4,
 "nbformat_minor": 2
}
